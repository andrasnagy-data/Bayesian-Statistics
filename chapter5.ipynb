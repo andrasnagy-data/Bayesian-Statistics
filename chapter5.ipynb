{
 "cells": [
  {
   "cell_type": "code",
   "execution_count": 1,
   "id": "cooked-apache",
   "metadata": {},
   "outputs": [],
   "source": [
    "from scipy.stats import beta"
   ]
  },
  {
   "cell_type": "markdown",
   "id": "danish-spanish",
   "metadata": {},
   "source": [
    "#### Exercise 1."
   ]
  },
  {
   "cell_type": "code",
   "execution_count": 2,
   "id": "exciting-block",
   "metadata": {},
   "outputs": [
    {
     "data": {
      "text/plain": [
       "'The probability that the coin lands on heads more than 60% of the times is: 0.0994'"
      ]
     },
     "execution_count": 2,
     "metadata": {},
     "output_type": "execute_result"
    }
   ],
   "source": [
    "heads, tails = 4, 6\n",
    "betacdf = beta(heads, tails).cdf\n",
    "\n",
    "f\"The probability that the coin lands on heads more than 60% of the times is: {betacdf(1) - betacdf(0.6):.4f}\""
   ]
  },
  {
   "cell_type": "markdown",
   "id": "impossible-segment",
   "metadata": {},
   "source": [
    "#### Exercise 2."
   ]
  },
  {
   "cell_type": "code",
   "execution_count": 3,
   "id": "judicial-interface",
   "metadata": {},
   "outputs": [
    {
     "data": {
      "text/plain": [
       "\"The probability that the coin is 'fair' is: 0.3099\""
      ]
     },
     "execution_count": 3,
     "metadata": {},
     "output_type": "execute_result"
    }
   ],
   "source": [
    "heads, tails = 9, 11\n",
    "betacdf = beta(heads, tails).cdf\n",
    "\n",
    "f\"The probability that the coin is 'fair' is: {betacdf(0.55) - betacdf(0.45):.4f}\""
   ]
  },
  {
   "cell_type": "markdown",
   "id": "noticed-doctor",
   "metadata": {},
   "source": [
    "#### Exercise 3."
   ]
  },
  {
   "cell_type": "code",
   "execution_count": 4,
   "id": "electric-division",
   "metadata": {},
   "outputs": [
    {
     "data": {
      "text/plain": [
       "\"The probability that the coin is 'fair' is: 0.8589\""
      ]
     },
     "execution_count": 4,
     "metadata": {},
     "output_type": "execute_result"
    }
   ],
   "source": [
    "heads, tails = 109, 111\n",
    "betacdf = beta(heads, tails).cdf\n",
    "\n",
    "f\"The probability that the coin is 'fair' is: {betacdf(0.55) - betacdf(0.45):.4f}\""
   ]
  }
 ],
 "metadata": {
  "kernelspec": {
   "display_name": "Python 3",
   "language": "python",
   "name": "python3"
  },
  "language_info": {
   "codemirror_mode": {
    "name": "ipython",
    "version": 3
   },
   "file_extension": ".py",
   "mimetype": "text/x-python",
   "name": "python",
   "nbconvert_exporter": "python",
   "pygments_lexer": "ipython3",
   "version": "3.8.5"
  }
 },
 "nbformat": 4,
 "nbformat_minor": 5
}
