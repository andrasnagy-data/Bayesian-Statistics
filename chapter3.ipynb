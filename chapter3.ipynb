{
 "cells": [
  {
   "cell_type": "markdown",
   "id": "received-springer",
   "metadata": {},
   "source": [
    "#### Exercise 1."
   ]
  },
  {
   "cell_type": "code",
   "execution_count": 1,
   "id": "silent-routine",
   "metadata": {},
   "outputs": [
    {
     "data": {
      "text/plain": [
       "'The probability of rolling 20 on a 20 sided die for 3 consecutive times is: 0.000125'"
      ]
     },
     "execution_count": 1,
     "metadata": {},
     "output_type": "execute_result"
    }
   ],
   "source": [
    "p_20 = 1/20\n",
    "p_20_3times = p_20 ** 3\n",
    "f\"The probability of rolling 20 on a 20 sided die for 3 consecutive times is: {p_20_3times:.6f}\""
   ]
  },
  {
   "cell_type": "markdown",
   "id": "usual-romania",
   "metadata": {},
   "source": [
    "#### Exercise 2."
   ]
  },
  {
   "cell_type": "code",
   "execution_count": 2,
   "id": "educational-performance",
   "metadata": {},
   "outputs": [
    {
     "data": {
      "text/plain": [
       "'The probability of raining without having an umbrella with is: 0.05'"
      ]
     },
     "execution_count": 2,
     "metadata": {},
     "output_type": "execute_result"
    }
   ],
   "source": [
    "p = 0.1 * 0.5\n",
    "f\"The probability of raining without having an umbrella with is: {p}\""
   ]
  },
  {
   "cell_type": "markdown",
   "id": "negative-savage",
   "metadata": {},
   "source": [
    "#### Exercise 3."
   ]
  },
  {
   "cell_type": "code",
   "execution_count": 3,
   "id": "basic-cotton",
   "metadata": {},
   "outputs": [
    {
     "data": {
      "text/plain": [
       "'The probability of eating a raw egg with salmonella is: 9.99975e-05'"
      ]
     },
     "execution_count": 3,
     "metadata": {},
     "output_type": "execute_result"
    }
   ],
   "source": [
    "f\"The probability of eating a raw egg with salmonella is: {1/20000 + 1/20000 - 1/20000**2}\""
   ]
  },
  {
   "cell_type": "markdown",
   "id": "stuck-cocktail",
   "metadata": {},
   "source": [
    "#### Exercise 4."
   ]
  },
  {
   "cell_type": "code",
   "execution_count": 4,
   "id": "compound-oakland",
   "metadata": {},
   "outputs": [
    {
     "data": {
      "text/plain": [
       "'The probability of flipping 2 heads in 2 coin tosses OR rolling three 6s in three six-sided dice rolls is: 0.5046'"
      ]
     },
     "execution_count": 4,
     "metadata": {},
     "output_type": "execute_result"
    }
   ],
   "source": [
    "f\"The probability of flipping 2 heads in 2 coin tosses OR rolling three 6s in three six-sided dice rolls is: {1/2 + 1/6**3:.4f}\""
   ]
  }
 ],
 "metadata": {
  "kernelspec": {
   "display_name": "Python 3",
   "language": "python",
   "name": "python3"
  },
  "language_info": {
   "codemirror_mode": {
    "name": "ipython",
    "version": 3
   },
   "file_extension": ".py",
   "mimetype": "text/x-python",
   "name": "python",
   "nbconvert_exporter": "python",
   "pygments_lexer": "ipython3",
   "version": "3.8.5"
  }
 },
 "nbformat": 4,
 "nbformat_minor": 5
}
