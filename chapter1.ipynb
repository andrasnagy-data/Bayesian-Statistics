{
 "cells": [
  {
   "cell_type": "markdown",
   "id": "better-leeds",
   "metadata": {},
   "source": [
    "#### Exercise 1."
   ]
  },
  {
   "cell_type": "markdown",
   "id": "prompt-webmaster",
   "metadata": {},
   "source": [
    "- p(rain) = low\n",
    "- p(rain|cloudy) = high\n",
    "- p(having an umbrella|raining) >> p(having an umbrella)"
   ]
  },
  {
   "cell_type": "markdown",
   "id": "generous-suite",
   "metadata": {},
   "source": [
    "#### Exercise 2."
   ]
  },
  {
   "cell_type": "markdown",
   "id": "architectural-punch",
   "metadata": {},
   "source": [
    "- Event A: front door is open\n",
    "- Event B: side windows is broken\n",
    "- Event C: laptop is missing\n",
    "\n",
    "H_1: brake in"
   ]
  },
  {
   "cell_type": "markdown",
   "id": "sensitive-allocation",
   "metadata": {},
   "source": [
    "#### Exercise 3."
   ]
  },
  {
   "cell_type": "markdown",
   "id": "described-group",
   "metadata": {},
   "source": [
    "Further data:\n",
    "- Event D: child apologisies for breaking the window\n",
    "- Event E: child saw laptop and took it, as to later, safely, return it\n",
    "\n",
    "H_2: neighbor broke the window\n",
    "\n",
    "p(H_2|A,B,C,D,E) >> p(H_1|A,B,C,D,E)"
   ]
  }
 ],
 "metadata": {
  "kernelspec": {
   "display_name": "Python 3",
   "language": "python",
   "name": "python3"
  },
  "language_info": {
   "codemirror_mode": {
    "name": "ipython",
    "version": 3
   },
   "file_extension": ".py",
   "mimetype": "text/x-python",
   "name": "python",
   "nbconvert_exporter": "python",
   "pygments_lexer": "ipython3",
   "version": "3.8.5"
  }
 },
 "nbformat": 4,
 "nbformat_minor": 5
}
