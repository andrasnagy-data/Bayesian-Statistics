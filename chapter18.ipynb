{
 "cells": [
  {
   "cell_type": "markdown",
   "id": "excess-flight",
   "metadata": {},
   "source": [
    "#### Exercise 1."
   ]
  },
  {
   "cell_type": "markdown",
   "id": "detailed-rolling",
   "metadata": {},
   "source": [
    "Ask the friend to predict something different than a die roll outcome."
   ]
  },
  {
   "cell_type": "markdown",
   "id": "multiple-honor",
   "metadata": {},
   "source": [
    "#### Exercise 2."
   ]
  },
  {
   "cell_type": "code",
   "execution_count": 1,
   "id": "cutting-screen",
   "metadata": {},
   "outputs": [],
   "source": [
    "prior_odds = 1/19 # to negate the Bayes Factor of 19"
   ]
  },
  {
   "cell_type": "code",
   "execution_count": 2,
   "id": "original-international",
   "metadata": {},
   "outputs": [
    {
     "data": {
      "text/plain": [
       "'The Bayes Factor needed to get a posterior odds of 50 is: 950.0'"
      ]
     },
     "execution_count": 2,
     "metadata": {},
     "output_type": "execute_result"
    }
   ],
   "source": [
    "# posterior odds = prior odds * Bayes Factor\n",
    "f\"The Bayes Factor needed to get a posterior odds of 50 is: {50/prior_odds}\""
   ]
  },
  {
   "cell_type": "markdown",
   "id": "fitted-generator",
   "metadata": {},
   "source": [
    "The experiment needs to be reproduced to be convinced by the significance of the result."
   ]
  }
 ],
 "metadata": {
  "kernelspec": {
   "display_name": "Python 3",
   "language": "python",
   "name": "python3"
  },
  "language_info": {
   "codemirror_mode": {
    "name": "ipython",
    "version": 3
   },
   "file_extension": ".py",
   "mimetype": "text/x-python",
   "name": "python",
   "nbconvert_exporter": "python",
   "pygments_lexer": "ipython3",
   "version": "3.8.5"
  }
 },
 "nbformat": 4,
 "nbformat_minor": 5
}
