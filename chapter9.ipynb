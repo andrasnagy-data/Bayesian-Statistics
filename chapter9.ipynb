{
 "cells": [
  {
   "cell_type": "code",
   "execution_count": 1,
   "id": "labeled-reporter",
   "metadata": {},
   "outputs": [],
   "source": [
    "from scipy.stats import beta"
   ]
  },
  {
   "cell_type": "markdown",
   "id": "considered-vancouver",
   "metadata": {},
   "source": [
    "#### Exercise 1."
   ]
  },
  {
   "cell_type": "code",
   "execution_count": 2,
   "id": "corresponding-constant",
   "metadata": {},
   "outputs": [
    {
     "data": {
      "text/plain": [
       "'The probability of true rate of flipping heads between 0.4 & 0.6 is: 0.0426'"
      ]
     },
     "execution_count": 2,
     "metadata": {},
     "output_type": "execute_result"
    }
   ],
   "source": [
    "heads, tails = 6, 1\n",
    "\n",
    "betacdf = beta(heads, tails).cdf\n",
    "\n",
    "f\"The probability of true rate of flipping heads between 0.4 & 0.6 is: {betacdf(0.6) - betacdf(0.4):.4f}\""
   ]
  },
  {
   "cell_type": "markdown",
   "id": "public-valentine",
   "metadata": {},
   "source": [
    "#### Exercise 2."
   ]
  },
  {
   "cell_type": "code",
   "execution_count": 3,
   "id": "illegal-duncan",
   "metadata": {},
   "outputs": [],
   "source": [
    "def atLeast95(heads, tails, num_iters= 100, true_rate= 0.95):\n",
    "    \n",
    "    for i in range(1, num_iters):\n",
    "        betacdf = beta(heads, tails).cdf\n",
    "        true_prop = betacdf(0.6) - betacdf(0.4)\n",
    "        \n",
    "        if true_prop < true_rate:\n",
    "            heads += 1\n",
    "            tails += 1\n",
    "        else:\n",
    "            return heads, tails"
   ]
  },
  {
   "cell_type": "code",
   "execution_count": 4,
   "id": "closing-start",
   "metadata": {},
   "outputs": [
    {
     "data": {
      "text/plain": [
       "(60, 55)"
      ]
     },
     "execution_count": 4,
     "metadata": {},
     "output_type": "execute_result"
    }
   ],
   "source": [
    "heads, tails = 6, 1\n",
    "atLeast95(heads, tails)"
   ]
  },
  {
   "cell_type": "code",
   "execution_count": 5,
   "id": "waiting-hurricane",
   "metadata": {},
   "outputs": [
    {
     "data": {
      "text/plain": [
       "'0.9504'"
      ]
     },
     "execution_count": 5,
     "metadata": {},
     "output_type": "execute_result"
    }
   ],
   "source": [
    "betacdf = beta(60, 55).cdf\n",
    "f'{betacdf(0.6) - betacdf(0.4):.4f}'"
   ]
  },
  {
   "cell_type": "markdown",
   "id": "worth-corruption",
   "metadata": {},
   "source": [
    "Prior = heads = tails = 54"
   ]
  },
  {
   "cell_type": "markdown",
   "id": "banned-penetration",
   "metadata": {},
   "source": [
    "#### Exercise 3."
   ]
  },
  {
   "cell_type": "code",
   "execution_count": 6,
   "id": "extra-worth",
   "metadata": {},
   "outputs": [],
   "source": [
    "def below50(heads, tails, num_iters= 100, true_rate= 0.5):\n",
    "    \n",
    "    for i in range(1, num_iters):\n",
    "        betacdf = beta(heads, tails).cdf\n",
    "        true_prop = betacdf(0.6) - betacdf(0.4)\n",
    "        \n",
    "        if true_prop > true_rate:\n",
    "            heads += 1\n",
    "        else:\n",
    "            return heads"
   ]
  },
  {
   "cell_type": "code",
   "execution_count": 7,
   "id": "simplified-metro",
   "metadata": {},
   "outputs": [
    {
     "data": {
      "text/plain": [
       "83"
      ]
     },
     "execution_count": 7,
     "metadata": {},
     "output_type": "execute_result"
    }
   ],
   "source": [
    "below50(60, 55)"
   ]
  },
  {
   "cell_type": "markdown",
   "id": "extra-timer",
   "metadata": {},
   "source": [
    "23 more heads and the true probability that the coin is \"fair\" is below 50%."
   ]
  }
 ],
 "metadata": {
  "kernelspec": {
   "display_name": "Python 3",
   "language": "python",
   "name": "python3"
  },
  "language_info": {
   "codemirror_mode": {
    "name": "ipython",
    "version": 3
   },
   "file_extension": ".py",
   "mimetype": "text/x-python",
   "name": "python",
   "nbconvert_exporter": "python",
   "pygments_lexer": "ipython3",
   "version": "3.8.5"
  }
 },
 "nbformat": 4,
 "nbformat_minor": 5
}
