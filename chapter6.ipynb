{
 "cells": [
  {
   "cell_type": "markdown",
   "id": "extensive-parent",
   "metadata": {},
   "source": [
    "#### Exercise 1."
   ]
  },
  {
   "cell_type": "markdown",
   "id": "premium-surgeon",
   "metadata": {},
   "source": [
    "Needed probability: p(vaccinated)"
   ]
  },
  {
   "cell_type": "markdown",
   "id": "disciplinary-oregon",
   "metadata": {},
   "source": [
    "#### Exercise 2."
   ]
  },
  {
   "cell_type": "code",
   "execution_count": 1,
   "id": "weird-phoenix",
   "metadata": {},
   "outputs": [
    {
     "data": {
      "text/plain": [
       "'The probability of person picked from population is female and not color blind is: 0.4750'"
      ]
     },
     "execution_count": 1,
     "metadata": {},
     "output_type": "execute_result"
    }
   ],
   "source": [
    "p_female = 0.5\n",
    "p_colorblind_female = 0.05\n",
    "p_female_and_not_colorblind = p_female * (1 - p_colorblind_female)\n",
    "f\"The probability of person picked from population is female and not color blind is: {p_female_and_not_colorblind:.4f}\""
   ]
  },
  {
   "cell_type": "markdown",
   "id": "adjacent-trash",
   "metadata": {},
   "source": [
    "#### Exercise 3."
   ]
  },
  {
   "cell_type": "code",
   "execution_count": 2,
   "id": "legislative-witness",
   "metadata": {},
   "outputs": [
    {
     "data": {
      "text/plain": [
       "'The probability of male received flu shot is colorblind or has GBS is: 0.0040'"
      ]
     },
     "execution_count": 2,
     "metadata": {},
     "output_type": "execute_result"
    }
   ],
   "source": [
    "p_colorblind_male = 4/1000\n",
    "p_GBS_fluvaccine = 3/100000\n",
    "p_answer = p_colorblind_male + p_GBS_fluvaccine - p_colorblind_male * p_GBS_fluvaccine\n",
    "f\"The probability of male received flu shot is colorblind or has GBS is: {p_answer:.4f}\""
   ]
  }
 ],
 "metadata": {
  "kernelspec": {
   "display_name": "Python 3",
   "language": "python",
   "name": "python3"
  },
  "language_info": {
   "codemirror_mode": {
    "name": "ipython",
    "version": 3
   },
   "file_extension": ".py",
   "mimetype": "text/x-python",
   "name": "python",
   "nbconvert_exporter": "python",
   "pygments_lexer": "ipython3",
   "version": "3.8.5"
  }
 },
 "nbformat": 4,
 "nbformat_minor": 5
}
