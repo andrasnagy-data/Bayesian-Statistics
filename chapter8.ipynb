{
 "cells": [
  {
   "cell_type": "markdown",
   "id": "fabulous-conducting",
   "metadata": {},
   "source": [
    "#### Exercise 1."
   ]
  },
  {
   "cell_type": "code",
   "execution_count": 1,
   "id": "greatest-mystery",
   "metadata": {},
   "outputs": [
    {
     "data": {
      "text/plain": [
       "657.0"
      ]
     },
     "execution_count": 1,
     "metadata": {},
     "output_type": "execute_result"
    }
   ],
   "source": [
    "(1/1000 * 3/100) / (1/21900000)"
   ]
  },
  {
   "cell_type": "markdown",
   "id": "afraid-constant",
   "metadata": {},
   "source": [
    "#### Exercise 2."
   ]
  },
  {
   "cell_type": "markdown",
   "id": "close-threshold",
   "metadata": {},
   "source": [
    "In order for the ratio of 2 hypothesises be even, p(hypothesis1) has to be decreased by 657 times. "
   ]
  }
 ],
 "metadata": {
  "kernelspec": {
   "display_name": "Python 3",
   "language": "python",
   "name": "python3"
  },
  "language_info": {
   "codemirror_mode": {
    "name": "ipython",
    "version": 3
   },
   "file_extension": ".py",
   "mimetype": "text/x-python",
   "name": "python",
   "nbconvert_exporter": "python",
   "pygments_lexer": "ipython3",
   "version": "3.8.5"
  }
 },
 "nbformat": 4,
 "nbformat_minor": 5
}
