{
 "cells": [
  {
   "cell_type": "code",
   "execution_count": 1,
   "id": "premier-cycling",
   "metadata": {},
   "outputs": [],
   "source": [
    "from scipy.stats import norm\n",
    "import numpy as np\n",
    "from scipy.integrate import quad\n",
    "import matplotlib.pyplot as plt"
   ]
  },
  {
   "cell_type": "markdown",
   "id": "strategic-portland",
   "metadata": {},
   "source": [
    "#### Exercise 1."
   ]
  },
  {
   "cell_type": "markdown",
   "id": "increasing-exploration",
   "metadata": {},
   "source": [
    "p(observing value 5 std greater than mean)= ~0"
   ]
  },
  {
   "cell_type": "markdown",
   "id": "lyric-distribution",
   "metadata": {},
   "source": [
    "#### Exercise 2."
   ]
  },
  {
   "cell_type": "code",
   "execution_count": 2,
   "id": "acceptable-chapel",
   "metadata": {},
   "outputs": [
    {
     "data": {
      "image/png": "[encoded data removed]",
      "text/plain": [
       "<Figure size 432x288 with 1 Axes>"
      ]
     },
     "metadata": {
      "needs_background": "light"
     },
     "output_type": "display_data"
    }
   ],
   "source": [
    "observations = np.array([100, 99.8, 101, 100.5, 99.7])\n",
    "mean = np.mean(observations)\n",
    "std = np.sqrt(np.var(observations))\n",
    "\n",
    "x_min = mean - 5*std\n",
    "x_max = mean + 5*std\n",
    "\n",
    "\n",
    "x = np.linspace(x_min, x_max, 100)\n",
    "\n",
    "y = norm.pdf(x, mean, std)\n",
    "\n",
    "plt.plot(x,y, color= 'black');"
   ]
  },
  {
   "cell_type": "code",
   "execution_count": 3,
   "id": "charming-photograph",
   "metadata": {},
   "outputs": [],
   "source": [
    "def normal_dist_func(x):\n",
    "    value = norm.pdf(x, mean, std)\n",
    "    return value"
   ]
  },
  {
   "cell_type": "code",
   "execution_count": 4,
   "id": "higher-composition",
   "metadata": {},
   "outputs": [
    {
     "data": {
      "text/plain": [
       "'The probability that the patient has fever is: 0.3403'"
      ]
     },
     "execution_count": 4,
     "metadata": {},
     "output_type": "execute_result"
    }
   ],
   "source": [
    "f\"The probability that the patient has fever is: {quad(normal_dist_func, 100.4, x_max)[0]:.4f}\""
   ]
  },
  {
   "cell_type": "markdown",
   "id": "sexual-italy",
   "metadata": {},
   "source": [
    "#### Exercise 3."
   ]
  },
  {
   "cell_type": "code",
   "execution_count": 5,
   "id": "satisfactory-intervention",
   "metadata": {},
   "outputs": [
    {
     "data": {
      "image/png": "[encoded data removed]",
      "text/plain": [
       "<Figure size 432x288 with 1 Axes>"
      ]
     },
     "metadata": {
      "needs_background": "light"
     },
     "output_type": "display_data"
    }
   ],
   "source": [
    "observations = np.array([2.5, 3, 3.5, 4, 2])\n",
    "mean = np.mean(observations)\n",
    "std = np.sqrt(np.var(observations))\n",
    "\n",
    "# 500 m = 0.5 * G * time**2\n",
    "# G = ~9.8 \n",
    "time_takes_500 = np.sqrt((500 / (0.5 * 9.8)))\n",
    "\n",
    "x_min = mean - 5*std\n",
    "x_max = mean + 5*std\n",
    "\n",
    "\n",
    "x = np.linspace(x_min, x_max, 100)\n",
    "\n",
    "y = norm.pdf(x, mean, std)\n",
    "\n",
    "plt.plot(x,y, color= 'black');"
   ]
  },
  {
   "cell_type": "code",
   "execution_count": 6,
   "id": "proprietary-adult",
   "metadata": {},
   "outputs": [
    {
     "data": {
      "text/plain": [
       "'The probability that the well is over 500 m deep is: -0.000000'"
      ]
     },
     "execution_count": 6,
     "metadata": {},
     "output_type": "execute_result"
    }
   ],
   "source": [
    "f\"The probability that the well is over 500 m deep is: {quad(normal_dist_func, time_takes_500, x_max)[0]:.6f}\""
   ]
  },
  {
   "cell_type": "markdown",
   "id": "moved-employee",
   "metadata": {},
   "source": [
    "#### Exercise 4."
   ]
  },
  {
   "cell_type": "code",
   "execution_count": 7,
   "id": "subject-personal",
   "metadata": {},
   "outputs": [
    {
     "data": {
      "text/plain": [
       "'The probability that the well is 0 m deep is: 0.000011'"
      ]
     },
     "execution_count": 7,
     "metadata": {},
     "output_type": "execute_result"
    }
   ],
   "source": [
    "f\"The probability that the well is 0 m deep is: {quad(normal_dist_func, x_min, 0)[0]:.6f}\""
   ]
  }
 ],
 "metadata": {
  "kernelspec": {
   "display_name": "Python 3",
   "language": "python",
   "name": "python3"
  },
  "language_info": {
   "codemirror_mode": {
    "name": "ipython",
    "version": 3
   },
   "file_extension": ".py",
   "mimetype": "text/x-python",
   "name": "python",
   "nbconvert_exporter": "python",
   "pygments_lexer": "ipython3",
   "version": "3.8.5"
  }
 },
 "nbformat": 4,
 "nbformat_minor": 5
}
