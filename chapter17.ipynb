{
 "cells": [
  {
   "cell_type": "markdown",
   "id": "suffering-disclosure",
   "metadata": {},
   "source": [
    "#### Exercise 1."
   ]
  },
  {
   "cell_type": "code",
   "execution_count": 1,
   "id": "imperial-nelson",
   "metadata": {},
   "outputs": [
    {
     "data": {
      "text/plain": [
       "1024.0"
      ]
     },
     "execution_count": 1,
     "metadata": {},
     "output_type": "execute_result"
    }
   ],
   "source": [
    "# data = [10 heads in a row out of 10 coin flips]\n",
    "p_H1 = 1\n",
    "p_H2 = 0.5**10\n",
    "\n",
    "bayes_factor = p_H1 / p_H2\n",
    "bayes_factor"
   ]
  },
  {
   "cell_type": "markdown",
   "id": "white-regression",
   "metadata": {},
   "source": [
    "#### Exercise 2."
   ]
  },
  {
   "cell_type": "code",
   "execution_count": 2,
   "id": "empirical-protein",
   "metadata": {},
   "outputs": [],
   "source": [
    "prior_odds_prankster = 15\n",
    "prior_odds_sneaky = 1/3\n",
    "prior_odds_honest = 1/100000"
   ]
  },
  {
   "cell_type": "code",
   "execution_count": 3,
   "id": "finished-protein",
   "metadata": {},
   "outputs": [
    {
     "data": {
      "text/plain": [
       "15360.0"
      ]
     },
     "execution_count": 3,
     "metadata": {},
     "output_type": "execute_result"
    }
   ],
   "source": [
    "posterior_odds_prankster = prior_odds_prankster * bayes_factor\n",
    "posterior_odds_prankster"
   ]
  },
  {
   "cell_type": "code",
   "execution_count": 4,
   "id": "industrial-recorder",
   "metadata": {},
   "outputs": [
    {
     "data": {
      "text/plain": [
       "341.3333333333333"
      ]
     },
     "execution_count": 4,
     "metadata": {},
     "output_type": "execute_result"
    }
   ],
   "source": [
    "posterior_odds_sneaky = prior_odds_sneaky * bayes_factor\n",
    "posterior_odds_sneaky"
   ]
  },
  {
   "cell_type": "code",
   "execution_count": 5,
   "id": "challenging-china",
   "metadata": {},
   "outputs": [
    {
     "data": {
      "text/plain": [
       "0.01024"
      ]
     },
     "execution_count": 5,
     "metadata": {},
     "output_type": "execute_result"
    }
   ],
   "source": [
    "posterior_odds_honest = prior_odds_honest * bayes_factor\n",
    "posterior_odds_honest"
   ]
  },
  {
   "cell_type": "markdown",
   "id": "coordinated-nepal",
   "metadata": {},
   "source": [
    "#### Exercise 3."
   ]
  },
  {
   "cell_type": "code",
   "execution_count": 6,
   "id": "defensive-kentucky",
   "metadata": {},
   "outputs": [],
   "source": [
    "prior_odds_honest = 1/10000"
   ]
  },
  {
   "cell_type": "code",
   "execution_count": 7,
   "id": "dangerous-polish",
   "metadata": {},
   "outputs": [],
   "source": [
    "def num_data(prior, post_odds):\n",
    "    for n in range(50):\n",
    "        p_odds = prior * (1/0.5**n)\n",
    "        if p_odds >= post_odds:\n",
    "            return n\n",
    "        else:\n",
    "            continue"
   ]
  },
  {
   "cell_type": "code",
   "execution_count": 8,
   "id": "meaningful-series",
   "metadata": {},
   "outputs": [
    {
     "data": {
      "text/plain": [
       "'After 14 heads in a row, the posterior odds is close 1'"
      ]
     },
     "execution_count": 8,
     "metadata": {},
     "output_type": "execute_result"
    }
   ],
   "source": [
    "number_of_flips = num_data(prior_odds_honest, 1)\n",
    "f\"After {number_of_flips} heads in a row, the posterior odds is close 1\""
   ]
  },
  {
   "cell_type": "markdown",
   "id": "registered-culture",
   "metadata": {},
   "source": [
    "#### Exercise 4."
   ]
  },
  {
   "cell_type": "code",
   "execution_count": 9,
   "id": "funky-video",
   "metadata": {},
   "outputs": [
    {
     "data": {
      "text/plain": [
       "'The suspicious friend has a prior beleif of: 6.25'"
      ]
     },
     "execution_count": 9,
     "metadata": {},
     "output_type": "execute_result"
    }
   ],
   "source": [
    "# 100 = prior * 1/0.5**4\n",
    "prior = 100 / (1/0.5**4)\n",
    "f\"The suspicious friend has a prior beleif of: {prior}\""
   ]
  }
 ],
 "metadata": {
  "kernelspec": {
   "display_name": "Python 3",
   "language": "python",
   "name": "python3"
  },
  "language_info": {
   "codemirror_mode": {
    "name": "ipython",
    "version": 3
   },
   "file_extension": ".py",
   "mimetype": "text/x-python",
   "name": "python",
   "nbconvert_exporter": "python",
   "pygments_lexer": "ipython3",
   "version": "3.8.5"
  }
 },
 "nbformat": 4,
 "nbformat_minor": 5
}
