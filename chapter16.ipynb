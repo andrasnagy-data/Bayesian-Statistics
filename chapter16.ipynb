{
 "cells": [
  {
   "cell_type": "markdown",
   "id": "intermediate-personal",
   "metadata": {},
   "source": [
    "#### Exercise 1."
   ]
  },
  {
   "cell_type": "code",
   "execution_count": 1,
   "id": "configured-nerve",
   "metadata": {},
   "outputs": [],
   "source": [
    "# p(D|H1) = 0.5**4 * 0.5**6\n",
    "# p(D|H2) = (1/6)**4 * (5/6)**6\n",
    "p_H1 = 0.00098\n",
    "p_H2 = 0.00026\n",
    "\n",
    "bayes_factor = p_H1 / p_H2"
   ]
  },
  {
   "cell_type": "code",
   "execution_count": 2,
   "id": "laughing-purpose",
   "metadata": {},
   "outputs": [],
   "source": [
    "# p(H1) = 2/3\n",
    "# p(H2) = 1/3\n",
    "prior_odds = (2/3) / (1/3) # H1/ H2"
   ]
  },
  {
   "cell_type": "code",
   "execution_count": 3,
   "id": "wrong-absence",
   "metadata": {},
   "outputs": [
    {
     "data": {
      "text/plain": [
       "'The H1 is 7.5385 more likely, than H2.'"
      ]
     },
     "execution_count": 3,
     "metadata": {},
     "output_type": "execute_result"
    }
   ],
   "source": [
    "posterior_odds = prior_odds * bayes_factor\n",
    "f'The H1 is {posterior_odds:.4f} more likely, than H2.'"
   ]
  },
  {
   "cell_type": "markdown",
   "id": "pregnant-effect",
   "metadata": {},
   "source": [
    "#### Exercise 2."
   ]
  },
  {
   "cell_type": "code",
   "execution_count": 4,
   "id": "patient-image",
   "metadata": {},
   "outputs": [],
   "source": [
    "p_labytinthitis = 0.98 * 0.3 * 0.28\n",
    "p_vestibular = 0.49 * 0.94 * 0.83\n",
    "\n",
    "bayes_factor = p_labytinthitis / p_vestibular"
   ]
  },
  {
   "cell_type": "code",
   "execution_count": 5,
   "id": "lonely-screening",
   "metadata": {},
   "outputs": [],
   "source": [
    "prior_odds = (35/1000000) / (11/1000000)"
   ]
  },
  {
   "cell_type": "code",
   "execution_count": 6,
   "id": "referenced-posting",
   "metadata": {},
   "outputs": [
    {
     "data": {
      "text/plain": [
       "'The H_labyt is 0.6851 less likely, than H_vestib.'"
      ]
     },
     "execution_count": 6,
     "metadata": {},
     "output_type": "execute_result"
    }
   ],
   "source": [
    "posterior_odds = prior_odds * bayes_factor\n",
    "f'The H_labyt is {posterior_odds:.4f} less likely, than H_vestib.'"
   ]
  }
 ],
 "metadata": {
  "kernelspec": {
   "display_name": "Python 3",
   "language": "python",
   "name": "python3"
  },
  "language_info": {
   "codemirror_mode": {
    "name": "ipython",
    "version": 3
   },
   "file_extension": ".py",
   "mimetype": "text/x-python",
   "name": "python",
   "nbconvert_exporter": "python",
   "pygments_lexer": "ipython3",
   "version": "3.8.5"
  }
 },
 "nbformat": 4,
 "nbformat_minor": 5
}
