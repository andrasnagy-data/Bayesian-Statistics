{
 "cells": [
  {
   "cell_type": "markdown",
   "id": "through-bruce",
   "metadata": {},
   "source": [
    "#### Exercise 1."
   ]
  },
  {
   "cell_type": "markdown",
   "id": "entertaining-investing",
   "metadata": {},
   "source": [
    "The thermometer is off by 1 Fahrenheit."
   ]
  },
  {
   "cell_type": "markdown",
   "id": "early-crowd",
   "metadata": {},
   "source": [
    "#### Exercise 2."
   ]
  },
  {
   "cell_type": "markdown",
   "id": "lucky-campbell",
   "metadata": {},
   "source": [
    "If 1 Fahrenheit was subtracted from the measurement, than the systematic bias could be corrected, otherwise all the samples from a biased device gives biased results."
   ]
  }
 ],
 "metadata": {
  "kernelspec": {
   "display_name": "Python 3",
   "language": "python",
   "name": "python3"
  },
  "language_info": {
   "codemirror_mode": {
    "name": "ipython",
    "version": 3
   },
   "file_extension": ".py",
   "mimetype": "text/x-python",
   "name": "python",
   "nbconvert_exporter": "python",
   "pygments_lexer": "ipython3",
   "version": "3.8.5"
  }
 },
 "nbformat": 4,
 "nbformat_minor": 5
}
