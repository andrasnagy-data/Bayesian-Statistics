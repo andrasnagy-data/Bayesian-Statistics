{
 "cells": [
  {
   "cell_type": "markdown",
   "id": "conscious-underground",
   "metadata": {},
   "source": [
    "#### Exercise 1."
   ]
  },
  {
   "cell_type": "markdown",
   "id": "vocational-payment",
   "metadata": {},
   "source": [
    "- Kansas city metropolitan area consists of 15 counties: 9 in Missouri and 6 in Kansas.\n",
    "- Kansas has 105 counties\n",
    "- Missouri has 114\n",
    "\n",
    "Question: probability(relative moved to Kansas City also lives in a county in Kansas)"
   ]
  },
  {
   "cell_type": "code",
   "execution_count": 1,
   "id": "intimate-newman",
   "metadata": {},
   "outputs": [
    {
     "data": {
      "text/plain": [
       "0.4"
      ]
     },
     "execution_count": 1,
     "metadata": {},
     "output_type": "execute_result"
    }
   ],
   "source": [
    "p_kansas_given_kansascity = (6/105 * 105/219) / (15/219)\n",
    "p_kansas_given_kansascity"
   ]
  },
  {
   "cell_type": "markdown",
   "id": "virtual-pierre",
   "metadata": {},
   "source": [
    "#### Exercise 2."
   ]
  },
  {
   "cell_type": "code",
   "execution_count": 2,
   "id": "single-tragedy",
   "metadata": {},
   "outputs": [],
   "source": [
    "p_ace_given_black = 1/13"
   ]
  }
 ],
 "metadata": {
  "kernelspec": {
   "display_name": "Python 3",
   "language": "python",
   "name": "python3"
  },
  "language_info": {
   "codemirror_mode": {
    "name": "ipython",
    "version": 3
   },
   "file_extension": ".py",
   "mimetype": "text/x-python",
   "name": "python",
   "nbconvert_exporter": "python",
   "pygments_lexer": "ipython3",
   "version": "3.8.5"
  }
 },
 "nbformat": 4,
 "nbformat_minor": 5
}
