{
 "cells": [
  {
   "cell_type": "markdown",
   "id": "increasing-group",
   "metadata": {},
   "source": [
    "#### Exercise 1."
   ]
  },
  {
   "cell_type": "markdown",
   "id": "difficult-spencer",
   "metadata": {},
   "source": [
    "binom(k= 1, p= 2/20, n= 12)"
   ]
  },
  {
   "cell_type": "markdown",
   "id": "intensive-swaziland",
   "metadata": {},
   "source": [
    "#### Exercise 2."
   ]
  },
  {
   "cell_type": "code",
   "execution_count": 1,
   "id": "impossible-secondary",
   "metadata": {},
   "outputs": [
    {
     "data": {
      "text/plain": [
       "5"
      ]
     },
     "execution_count": 1,
     "metadata": {},
     "output_type": "execute_result"
    }
   ],
   "source": [
    "import math\n",
    "\n",
    "n, k = 5, 1\n",
    "\n",
    "math.comb(n, k)"
   ]
  },
  {
   "cell_type": "markdown",
   "id": "another-entrance",
   "metadata": {},
   "source": [
    "#### Exercise 3."
   ]
  },
  {
   "cell_type": "code",
   "execution_count": 2,
   "id": "heard-camping",
   "metadata": {},
   "outputs": [
    {
     "data": {
      "text/plain": [
       "'The probability of pulling 5 aces out of 10 pulls with putting the card back is: 0.000455'"
      ]
     },
     "execution_count": 2,
     "metadata": {},
     "output_type": "execute_result"
    }
   ],
   "source": [
    "from scipy.stats import binom\n",
    "\n",
    "f'The probability of pulling 5 aces out of 10 pulls with putting the card back is: {binom.pmf(k= 5, n= 10, p= 4/52):.6f}'"
   ]
  },
  {
   "cell_type": "markdown",
   "id": "racial-lunch",
   "metadata": {},
   "source": [
    "#### Exercise 4."
   ]
  },
  {
   "cell_type": "code",
   "execution_count": 3,
   "id": "together-exclusive",
   "metadata": {},
   "outputs": [
    {
     "data": {
      "text/plain": [
       "'The probability of having at least 2 offer is: 0.2136'"
      ]
     },
     "execution_count": 3,
     "metadata": {},
     "output_type": "execute_result"
    }
   ],
   "source": [
    "p_7 = 1 - (binom.cdf(k= 0, n= 7, p= 1/5) + binom.cdf(k= 1, n= 7, p= 1/5))\n",
    "f\"The probability of having at least 2 offer is: {p_7:.4f}\""
   ]
  },
  {
   "cell_type": "markdown",
   "id": "collected-carolina",
   "metadata": {},
   "source": [
    "#### Exercise 5."
   ]
  },
  {
   "cell_type": "code",
   "execution_count": 4,
   "id": "south-population",
   "metadata": {},
   "outputs": [
    {
     "name": "stdout",
     "output_type": "stream",
     "text": [
      "go to 25 interviews, the probability of having at least 2 offers is: 0.6570\n"
     ]
    }
   ],
   "source": [
    "p_25 = 1 - (binom.cdf(k= 0, n= 25, p= 1/10) + binom.cdf(k= 1, n= 25, p= 1/10))\n",
    "\n",
    "if p_25 / p_7 >= 2:\n",
    "    print(f'go to 25 interviews, the probability of having at least 2 offers is: {p_25:.4f}')\n",
    "else:\n",
    "    print('stick to 7 interviews')"
   ]
  }
 ],
 "metadata": {
  "kernelspec": {
   "display_name": "Python 3",
   "language": "python",
   "name": "python3"
  },
  "language_info": {
   "codemirror_mode": {
    "name": "ipython",
    "version": 3
   },
   "file_extension": ".py",
   "mimetype": "text/x-python",
   "name": "python",
   "nbconvert_exporter": "python",
   "pygments_lexer": "ipython3",
   "version": "3.8.5"
  }
 },
 "nbformat": 4,
 "nbformat_minor": 5
}
