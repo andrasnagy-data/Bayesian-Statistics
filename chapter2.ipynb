{
 "cells": [
  {
   "cell_type": "markdown",
   "id": "egyptian-lemon",
   "metadata": {},
   "source": [
    "#### Exercise 1."
   ]
  },
  {
   "cell_type": "code",
   "execution_count": 1,
   "id": "verbal-boost",
   "metadata": {},
   "outputs": [
    {
     "data": {
      "text/plain": [
       "15"
      ]
     },
     "execution_count": 1,
     "metadata": {},
     "output_type": "execute_result"
    }
   ],
   "source": [
    "count = 0\n",
    "for roll1 in [1, 2, 3, 4, 5, 6]:\n",
    "    for roll2 in [1, 2, 3, 4, 5, 6]:\n",
    "        if roll1 + roll2 > 7:\n",
    "            count += 1\n",
    "        else:\n",
    "            continue\n",
    "count"
   ]
  },
  {
   "cell_type": "code",
   "execution_count": 2,
   "id": "european-ownership",
   "metadata": {},
   "outputs": [
    {
     "data": {
      "text/plain": [
       "36"
      ]
     },
     "execution_count": 2,
     "metadata": {},
     "output_type": "execute_result"
    }
   ],
   "source": [
    "total = 6 ** 2\n",
    "total"
   ]
  },
  {
   "cell_type": "markdown",
   "id": "contrary-sudan",
   "metadata": {},
   "source": [
    "p(roll1 + roll2 > 7) = 15/36"
   ]
  },
  {
   "cell_type": "markdown",
   "id": "mineral-tribute",
   "metadata": {},
   "source": [
    "#### Exercise 2."
   ]
  },
  {
   "cell_type": "code",
   "execution_count": 3,
   "id": "sexual-panama",
   "metadata": {},
   "outputs": [
    {
     "data": {
      "text/plain": [
       "181"
      ]
     },
     "execution_count": 3,
     "metadata": {},
     "output_type": "execute_result"
    }
   ],
   "source": [
    "count = 0\n",
    "for roll1 in [1, 2, 3, 4, 5, 6]:\n",
    "    for roll2 in [1, 2, 3, 4, 5, 6]:\n",
    "        for roll3 in [1, 2, 3, 4, 5, 6]:\n",
    "            if roll1 + roll2 + roll3 > 7:\n",
    "                count += 1\n",
    "            else:\n",
    "                continue\n",
    "count"
   ]
  },
  {
   "cell_type": "code",
   "execution_count": 4,
   "id": "junior-advance",
   "metadata": {},
   "outputs": [
    {
     "data": {
      "text/plain": [
       "216"
      ]
     },
     "execution_count": 4,
     "metadata": {},
     "output_type": "execute_result"
    }
   ],
   "source": [
    "total = 6 ** 3\n",
    "total"
   ]
  },
  {
   "cell_type": "markdown",
   "id": "animal-track",
   "metadata": {},
   "source": [
    "p(roll1 + roll2 + roll3 > 7) = 181/216"
   ]
  },
  {
   "cell_type": "markdown",
   "id": "patient-difficulty",
   "metadata": {},
   "source": [
    "#### Exercise 3."
   ]
  },
  {
   "cell_type": "code",
   "execution_count": 5,
   "id": "alpine-frederick",
   "metadata": {},
   "outputs": [
    {
     "data": {
      "text/plain": [
       "6.0"
      ]
     },
     "execution_count": 5,
     "metadata": {},
     "output_type": "execute_result"
    }
   ],
   "source": [
    "p_of_sox_win = 30\n",
    "p_of_sox_lose = 5\n",
    "\n",
    "p_ratio = p_of_sox_win / p_of_sox_lose\n",
    "p_ratio"
   ]
  },
  {
   "cell_type": "markdown",
   "id": "bored-replacement",
   "metadata": {},
   "source": [
    "p_of_sox_win = 6 * p_of_sox_lose\n",
    "\n",
    "->\n",
    "\n",
    "p_of_sox_win = 6 * (1 - p_of_sox_win)\n",
    "\n",
    "->\n",
    "\n",
    "p_of_sox_win = 6 - 6 * p_of_sox_win\n",
    "\n",
    "->\n",
    "\n",
    "7 * p_of_sox_win = 6\n",
    "\n",
    "->\n",
    "\n",
    "*p_of_sox_win = 6/7*"
   ]
  }
 ],
 "metadata": {
  "kernelspec": {
   "display_name": "Python 3",
   "language": "python",
   "name": "python3"
  },
  "language_info": {
   "codemirror_mode": {
    "name": "ipython",
    "version": 3
   },
   "file_extension": ".py",
   "mimetype": "text/x-python",
   "name": "python",
   "nbconvert_exporter": "python",
   "pygments_lexer": "ipython3",
   "version": "3.8.5"
  }
 },
 "nbformat": 4,
 "nbformat_minor": 5
}
